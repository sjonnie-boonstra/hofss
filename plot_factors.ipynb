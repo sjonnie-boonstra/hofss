{
 "cells": [
  {
   "cell_type": "code",
   "execution_count": null,
   "metadata": {},
   "outputs": [],
   "source": [
    "from hofss import Factor\n",
    "\n",
    "factors = Factor.parse_from_file(\"/home/boonstra/git_repos/hofss/data/hofs_frequencies_and_multipliers.csv\")"
   ]
  },
  {
   "cell_type": "code",
   "execution_count": null,
   "metadata": {},
   "outputs": [],
   "source": [
    "from matplotlib.axes._axes import Axes\n",
    "import matplotlib.pyplot as plt\n",
    "import numpy as np\n",
    "\n",
    "def plot_factor_pdf(factor: Factor, ax: Axes, effect: str = \"neg\") -> Axes:\n",
    "\n",
    "    effect = effect.lower()\n",
    "    if effect not in [\"pos\", \"neg\"]:\n",
    "        raise ValueError(\"effect must be either one of: 'pos', 'neg'\")\n",
    "    \n",
    "    cdf_probabilities = [0, 0.05, 0.5, 0.95, 1.0]\n",
    "    multipliers = []\n",
    "    for percentile in [\"lower\", \"5\", \"50\", \"95\", \"upper\"]:\n",
    "        attribute_name = f\"m_{effect}_{percentile}\"\n",
    "        multipliers.append(getattr(factor, attribute_name))\n",
    "\n",
    "    plot_points = [(multipliers[0],0)]\n",
    "    sum_pdf = 0\n",
    "    for i in range(4):\n",
    "        probability = (cdf_probabilities[i+1]-cdf_probabilities[i]) / (multipliers[i+1] - multipliers[i])\n",
    "        plot_points.append((multipliers[i], probability))\n",
    "        plot_points.append((multipliers[i+1], probability))\n",
    "        sum_pdf += probability * (multipliers[i+1] - multipliers[i])\n",
    "\n",
    "    plot_points.append((multipliers[-1], 0))\n",
    "    ax.plot(*zip(*plot_points), label=factor.description)\n",
    "    return ax\n",
    "\n"
   ]
  },
  {
   "cell_type": "code",
   "execution_count": null,
   "metadata": {},
   "outputs": [],
   "source": [
    "fig, axs = plt.subplots(2)\n",
    "scale_factor = 3\n",
    "fig.set_size_inches(w=scale_factor*80/25.4, h=scale_factor*60/25.4)\n",
    "for ax in axs:\n",
    "    ax.set_ylabel(\"PDF $f(x)$\")\n",
    "\n",
    "axs[0].set_title(\"Positive effect\")\n",
    "axs[1].set_xlabel(\"Multiplier value [-]\")\n",
    "axs[1].set_title(\"Negative effect\")\n",
    "\n",
    "\n",
    "for factor_id in [\"F1\", \"F3\", \"F2\", \"F4\"]:\n",
    "    factor = list(filter(lambda x: x.name == factor_id, factors))[0]\n",
    "    axs[0] = plot_factor_pdf(factor, axs[0], \"pos\")\n",
    "    axs[1] = plot_factor_pdf(factor, axs[1], \"neg\")\n",
    "\n",
    "\n",
    "# ax[0].set_xscale(\"log\")\n",
    "axs[1].set_xscale(\"log\")\n",
    "\n",
    "axs[1].legend(loc='upper center', bbox_to_anchor=(0.5,-0.2), ncols=4)\n",
    "\n",
    "plt.tight_layout()\n",
    "plt.show()"
   ]
  },
  {
   "cell_type": "code",
   "execution_count": null,
   "metadata": {},
   "outputs": [],
   "source": [
    "fig.savefig(\"PDF_hofs.png\")"
   ]
  }
 ],
 "metadata": {
  "kernelspec": {
   "display_name": ".env",
   "language": "python",
   "name": "python3"
  },
  "language_info": {
   "codemirror_mode": {
    "name": "ipython",
    "version": 3
   },
   "file_extension": ".py",
   "mimetype": "text/x-python",
   "name": "python",
   "nbconvert_exporter": "python",
   "pygments_lexer": "ipython3",
   "version": "3.11.4"
  }
 },
 "nbformat": 4,
 "nbformat_minor": 2
}
